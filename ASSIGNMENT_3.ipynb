{
  "nbformat": 4,
  "nbformat_minor": 0,
  "metadata": {
    "colab": {
      "name": "ASSIGNMENT 3.ipynb",
      "provenance": [],
      "authorship_tag": "ABX9TyNCHSwWC0nOMDL5Q2FrJioX",
      "include_colab_link": true
    },
    "kernelspec": {
      "name": "python3",
      "display_name": "Python 3"
    },
    "language_info": {
      "name": "python"
    }
  },
  "cells": [
    {
      "cell_type": "markdown",
      "metadata": {
        "id": "view-in-github",
        "colab_type": "text"
      },
      "source": [
        "<a href=\"https://colab.research.google.com/github/RahailMohammed/AI/blob/main/ASSIGNMENT_3.ipynb\" target=\"_parent\"><img src=\"https://colab.research.google.com/assets/colab-badge.svg\" alt=\"Open In Colab\"/></a>"
      ]
    },
    {
      "cell_type": "code",
      "metadata": {
        "colab": {
          "base_uri": "https://localhost:8080/"
        },
        "id": "NrphjOwgdcYT",
        "outputId": "25e507b7-7112-4589-f6e8-98a8a4ae759b"
      },
      "source": [
        "import numpy as np\n",
        "x=np.random.uniform(-1,1)\n",
        "y=np.random.uniform(0,10)\n",
        "eta=0.1\n",
        "e=2.718281828459\n",
        "iter=1\n",
        "epochs=100\n",
        "while iter<=epochs:\n",
        "  gx=6*x\n",
        "  gy=-5*(e**(-y))\n",
        "  dx=-(eta*gx)\n",
        "  dy=-(eta*gy)\n",
        "  iter=iter+1\n",
        "  x=x+dx\n",
        "  y=y+dy\n",
        "obj=(3*x*x)+10+(5*(e**(-y)))\n",
        "print(\"The value of x is \",round(x),\"\\nThe value of y is \",round(y),\"\\nThe value of function at values \",round(x),\", \",round(y) ,\" is \",round(obj),sep=\"\")"
      ],
      "execution_count": 3,
      "outputs": [
        {
          "output_type": "stream",
          "name": "stdout",
          "text": [
            "The value of x is 0\n",
            "The value of y is 8\n",
            "The value of function at values 0, 8 is 10\n"
          ]
        }
      ]
    },
    {
      "cell_type": "markdown",
      "metadata": {
        "id": "2bngyDEXgcgf"
      },
      "source": [
        "STEP-1: Initialization\n",
        "\n",
        "let random x value is 0.9\n",
        "\n",
        "let random y value is 4.955\n",
        "\n",
        "eta=0.1\n",
        "\n",
        "iter=1\n",
        "\n",
        "epochs=100\n",
        "\n",
        "STEP-2: Gradient \n",
        "\n",
        "\n",
        "g_x=6*x\n",
        "\n",
        "g_x=6*0.9-------> g_x=5.4\n",
        "\n",
        "g_y=-5(e**(-y))=-5(e**(-4.955))=-0.035\n",
        "\n",
        "del_x=-(etagx)=-(0.15.4)=-0.54\n",
        "\n",
        "del_y=-(etagy)=-(0.1-0.035)=-0.0035\n",
        "\n",
        "x=x+del_x=0.9-0.54=0.36\n",
        "\n",
        "y=y+del_y=4.55-0.0035=4.4465\n",
        "\n",
        "iter=iter+1=2\n",
        "\n",
        "x=0.36;\n",
        "\n",
        "y=4.4465;\n",
        "\n",
        "iter=2:\n",
        "\n",
        "g_x=6*0.36=2.16\n",
        "\n",
        "g_y=-5(e**(-y))=-(0.1e**(-4.4465))=-0.03508\n",
        "\n",
        "del_x=-0.1*2.16=-0.216\n",
        "\n",
        "del_y=-0.1*0.03508=-0.003508\n",
        "\n",
        "x=0.36-0.216=0.144\n",
        "\n",
        "y=4.4465-0.003508=4.442992\n",
        "\n",
        "Min value of x is 0 , y =5 value of function=10."
      ]
    }
  ]
}