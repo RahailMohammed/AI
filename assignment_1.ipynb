{
  "nbformat": 4,
  "nbformat_minor": 0,
  "metadata": {
    "colab": {
      "name": "assignment 1.ipynb",
      "provenance": [],
      "authorship_tag": "ABX9TyMIQUKEd5rj5J++ANNybW29",
      "include_colab_link": true
    },
    "kernelspec": {
      "name": "python3",
      "display_name": "Python 3"
    },
    "language_info": {
      "name": "python"
    }
  },
  "cells": [
    {
      "cell_type": "markdown",
      "metadata": {
        "id": "view-in-github",
        "colab_type": "text"
      },
      "source": [
        "<a href=\"https://colab.research.google.com/github/RahailMohammed/AI/blob/main/assignment_1.ipynb\" target=\"_parent\"><img src=\"https://colab.research.google.com/assets/colab-badge.svg\" alt=\"Open In Colab\"/></a>"
      ]
    },
    {
      "cell_type": "code",
      "metadata": {
        "colab": {
          "base_uri": "https://localhost:8080/"
        },
        "id": "9bPUPO9fLAgG",
        "outputId": "efb45727-1b04-4089-c29f-760eff5bf846"
      },
      "source": [
        "from scipy.optimize import linprog\n",
        "obj=[-50,-120]\n",
        "x=[[7000,2000],[10,30]]\n",
        "y=[700000,1200]\n",
        "bd=[(0,float('inf')),(0,float('inf'))]\n",
        "res=linprog(c=obj,A_ub=x,b_ub=y,A_eq=None,b_eq=None,bounds=bd,method=\"simplex\")\n",
        "print(\"wheat to be planted in\",round(res.x[0]),\"hectares\")\n",
        "print(\"Barley to be planted in\",round(res.x[1]),\"hectares\")"
      ],
      "execution_count": 3,
      "outputs": [
        {
          "output_type": "stream",
          "text": [
            "wheat to be planted in 98 hectares\n",
            "Barley to be planted in 7 hectares\n"
          ],
          "name": "stdout"
        }
      ]
    }
  ]
}