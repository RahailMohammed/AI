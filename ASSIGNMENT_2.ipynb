{
  "nbformat": 4,
  "nbformat_minor": 0,
  "metadata": {
    "colab": {
      "name": "ASSIGNMENT 2.ipynb",
      "provenance": [],
      "authorship_tag": "ABX9TyO/XKqVocZnAFJluBqg+oQv",
      "include_colab_link": true
    },
    "kernelspec": {
      "name": "python3",
      "display_name": "Python 3"
    },
    "language_info": {
      "name": "python"
    }
  },
  "cells": [
    {
      "cell_type": "markdown",
      "metadata": {
        "id": "view-in-github",
        "colab_type": "text"
      },
      "source": [
        "<a href=\"https://colab.research.google.com/github/RahailMohammed/AI/blob/main/ASSIGNMENT_2.ipynb\" target=\"_parent\"><img src=\"https://colab.research.google.com/assets/colab-badge.svg\" alt=\"Open In Colab\"/></a>"
      ]
    },
    {
      "cell_type": "code",
      "metadata": {
        "colab": {
          "base_uri": "https://localhost:8080/"
        },
        "id": "zpEnu95lXj_U",
        "outputId": "0ce5580e-83f7-4fdf-f75e-9a252cfbade6"
      },
      "source": [
        "import numpy as np\n",
        "x=np.random.uniform(-10,10)\n",
        "eta=0.1\n",
        "iter=1\n",
        "epochs=100\n",
        "while iter<=epochs:\n",
        "  g_x=4*(x**3)+6*x\n",
        "  del_x=-(eta*g_x)\n",
        "  x=x+del_x\n",
        "  iter=iter+1\n",
        "obj=(x**4)+3*(x**2)+10\n",
        "print(\"Mnimal value of x is\",round(x),\"Value of function is\",obj)"
      ],
      "execution_count": 13,
      "outputs": [
        {
          "output_type": "stream",
          "name": "stdout",
          "text": [
            "Mnimal value of x is 0 Value of function is 10.0\n"
          ]
        }
      ]
    },
    {
      "cell_type": "markdown",
      "metadata": {
        "id": "4sQEOckOdNEv"
      },
      "source": [
        "STEP-1: Initialization\n",
        "\n",
        "\n",
        "let random x value is -1\n",
        "\n",
        "eta=0.1\n",
        "\n",
        "iter=1\n",
        "\n",
        "epochs=100\n",
        "\n",
        "STEP-2: Gradient\n",
        "\n",
        "\n",
        "g_x=4(x**3)+6x\n",
        "\n",
        "g_x=4(-1**3)+6-1-------> g_x=-4-6=-10\n",
        "\n",
        "del_x=-(etag_x)=-(0.1-10)=1\n",
        "\n",
        "x=x+del_x=-1+1=0\n",
        "\n",
        "iter=iter+1=2\n",
        "\n",
        "x=0;\n",
        "\n",
        "iter=2:\n",
        "\n",
        "g_x=4(0**3)+60=0\n",
        "\n",
        "del_x=-0.1*0\n",
        "\n",
        "x=0+0=0\n",
        "\n",
        "value of x=0 value of function=10."
      ]
    }
  ]
}